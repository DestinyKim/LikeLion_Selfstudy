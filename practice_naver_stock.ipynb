{
 "cells": [
  {
   "cell_type": "code",
   "execution_count": 152,
   "metadata": {},
   "outputs": [],
   "source": [
    "from urllib.request import urlopen\n",
    "from bs4 import BeautifulSoup"
   ]
  },
  {
   "cell_type": "code",
   "execution_count": 153,
   "metadata": {},
   "outputs": [],
   "source": [
    "url = \"https://finance.naver.com/sise/\"\n",
    "\n",
    "page = urlopen(url)\n",
    "soup = BeautifulSoup(page, 'html.parser')"
   ]
  },
  {
   "cell_type": "code",
   "execution_count": 154,
   "metadata": {},
   "outputs": [
    {
     "data": {
      "text/plain": [
       "<title>국내증시 : 네이버 금융</title>"
      ]
     },
     "execution_count": 154,
     "metadata": {},
     "output_type": "execute_result"
    }
   ],
   "source": [
    "soup.title"
   ]
  },
  {
   "cell_type": "code",
   "execution_count": 155,
   "metadata": {},
   "outputs": [
    {
     "data": {
      "text/plain": [
       "<li><em>1.</em><a href=\"/item/main.nhn?code=019170\" onclick=\"clickcr(this,'boa.list','019170','1',event)\">신풍제약</a><span class=\"up\">95,600</span><em class=\"bu_p bu_pup\"><span class=\"blind\">상승</span></em></li>"
      ]
     },
     "execution_count": 155,
     "metadata": {},
     "output_type": "execute_result"
    }
   ],
   "source": [
    "soup.find('ul',id='popularItemList').find_all('li')[0]"
   ]
  },
  {
   "cell_type": "code",
   "execution_count": 156,
   "metadata": {},
   "outputs": [],
   "source": [
    "### 인기 검색 종목 부분\n",
    "\n",
    "pop = soup.find('ul',id='popularItemList')\n",
    "pop_list = pop.find_all('li')\n",
    "\n",
    "stock_names = []\n",
    "stock_current_prices = []\n",
    "up_downs = []\n",
    "\n",
    "for one in pop_list:\n",
    "    stock_name = one.find('a').text\n",
    "    stock_names.append(stock_name) # 종목명\n",
    "    \n",
    "    stock_price = one.find('span').text\n",
    "    stock_current_prices.append(stock_price) # 종목가격\n",
    "    \n",
    "    up_down = one.find('span', class_='blind').text\n",
    "    up_downs.append(up_down) # 상승/하락\n",
    "    \n",
    "#     code = one.find('a')['href'][-6:]\n",
    "#     base_url='https://finance.naver.com/item/main.nhn?code='+code\n",
    "    \n",
    "#     page2 = urlopen(base_url)\n",
    "#     soup2 = BeautifulSoup(page2, 'html.parser')\n",
    "#     print(soup2.title)\n",
    "    \n",
    "#     soup2.\n"
   ]
  },
  {
   "cell_type": "code",
   "execution_count": 157,
   "metadata": {},
   "outputs": [],
   "source": [
    "import pandas as pd"
   ]
  },
  {
   "cell_type": "code",
   "execution_count": 158,
   "metadata": {},
   "outputs": [
    {
     "data": {
      "text/html": [
       "<div>\n",
       "<style scoped>\n",
       "    .dataframe tbody tr th:only-of-type {\n",
       "        vertical-align: middle;\n",
       "    }\n",
       "\n",
       "    .dataframe tbody tr th {\n",
       "        vertical-align: top;\n",
       "    }\n",
       "\n",
       "    .dataframe thead th {\n",
       "        text-align: right;\n",
       "    }\n",
       "</style>\n",
       "<table border=\"1\" class=\"dataframe\">\n",
       "  <thead>\n",
       "    <tr style=\"text-align: right;\">\n",
       "      <th></th>\n",
       "      <th>종목명</th>\n",
       "      <th>현재가</th>\n",
       "      <th>상하여력</th>\n",
       "    </tr>\n",
       "  </thead>\n",
       "  <tbody>\n",
       "    <tr>\n",
       "      <th>0</th>\n",
       "      <td>신풍제약</td>\n",
       "      <td>95,600</td>\n",
       "      <td>상승</td>\n",
       "    </tr>\n",
       "    <tr>\n",
       "      <th>1</th>\n",
       "      <td>삼성전자</td>\n",
       "      <td>80,400</td>\n",
       "      <td>상승</td>\n",
       "    </tr>\n",
       "    <tr>\n",
       "      <th>2</th>\n",
       "      <td>HMM</td>\n",
       "      <td>48,100</td>\n",
       "      <td>상승</td>\n",
       "    </tr>\n",
       "    <tr>\n",
       "      <th>3</th>\n",
       "      <td>카카오</td>\n",
       "      <td>157,000</td>\n",
       "      <td>하락</td>\n",
       "    </tr>\n",
       "    <tr>\n",
       "      <th>4</th>\n",
       "      <td>삼성전기</td>\n",
       "      <td>188,000</td>\n",
       "      <td>상승</td>\n",
       "    </tr>\n",
       "    <tr>\n",
       "      <th>5</th>\n",
       "      <td>카카오게임즈</td>\n",
       "      <td>76,000</td>\n",
       "      <td>상승</td>\n",
       "    </tr>\n",
       "    <tr>\n",
       "      <th>6</th>\n",
       "      <td>진원생명과학</td>\n",
       "      <td>50,800</td>\n",
       "      <td>상승</td>\n",
       "    </tr>\n",
       "    <tr>\n",
       "      <th>7</th>\n",
       "      <td>LG전자</td>\n",
       "      <td>167,000</td>\n",
       "      <td>상승</td>\n",
       "    </tr>\n",
       "    <tr>\n",
       "      <th>8</th>\n",
       "      <td>현대차</td>\n",
       "      <td>236,000</td>\n",
       "      <td>하락</td>\n",
       "    </tr>\n",
       "    <tr>\n",
       "      <th>9</th>\n",
       "      <td>NAVER</td>\n",
       "      <td>410,000</td>\n",
       "      <td>하락</td>\n",
       "    </tr>\n",
       "  </tbody>\n",
       "</table>\n",
       "</div>"
      ],
      "text/plain": [
       "      종목명      현재가 상하여력\n",
       "0    신풍제약   95,600   상승\n",
       "1    삼성전자   80,400   상승\n",
       "2     HMM   48,100   상승\n",
       "3     카카오  157,000   하락\n",
       "4    삼성전기  188,000   상승\n",
       "5  카카오게임즈   76,000   상승\n",
       "6  진원생명과학   50,800   상승\n",
       "7    LG전자  167,000   상승\n",
       "8     현대차  236,000   하락\n",
       "9   NAVER  410,000   하락"
      ]
     },
     "execution_count": 158,
     "metadata": {},
     "output_type": "execute_result"
    }
   ],
   "source": [
    "dat = {'종목명':stock_names,'현재가':stock_current_prices, '상하여력':up_downs}\n",
    "dat = pd.DataFrame(dat)\n",
    "dat"
   ]
  },
  {
   "cell_type": "markdown",
   "metadata": {},
   "source": [
    "### Top종목"
   ]
  },
  {
   "cell_type": "code",
   "execution_count": 159,
   "metadata": {},
   "outputs": [],
   "source": [
    "# top_list = soup.select('#siselist_tab_0')\n",
    "# print(top_list)"
   ]
  },
  {
   "cell_type": "code",
   "execution_count": 160,
   "metadata": {},
   "outputs": [],
   "source": [
    "idxs = [] # 순위\n",
    "continuities = [] # 연속\n",
    "accumulates = [] # 누적\n",
    "top_stock_names = [] # 종목명\n",
    "top_stock_name_prices = [] # 현재가\n",
    "com_with_yest = [] # 전일비\n",
    "fluc_rates = [] # 등락률\n",
    "trad_volumes = [] # 거래량\n",
    "starts = [] # 시가\n",
    "highs = [] # 고가\n",
    "lows = [] # 저가\n",
    " "
   ]
  },
  {
   "cell_type": "code",
   "execution_count": 161,
   "metadata": {},
   "outputs": [
    {
     "name": "stdout",
     "output_type": "stream",
     "text": [
      "5\n"
     ]
    }
   ],
   "source": [
    "top_list = soup.find('table',id='siselist_tab_0').find_all('tr')\n",
    "# print(len(top_list))\n",
    "\n",
    "for one in range(2,(len(top_list)-5)): # None 값 제거를 위해 in range를 사용하였고, 크롤링 구역을 잘 뜯어보자! \n",
    "#     num = one.find('img')               그리고 int타입에 대해 생각해보기!!!\n",
    "#     print(top_list[one])\n",
    "    num = top_list[one].find('img')['src'][-5:-4] \n",
    "    idxs.append(num) # 순위\n",
    "#     print(idxs)  \n",
    "    \n",
    "    con = top_list[one].find_all('td', class_='number')[0].text\n",
    "    continuities.append(con) # 연속\n",
    "    \n",
    "    acc = top_list[one].find_all('td', class_='number')[1].text\n",
    "    accumulates.append(acc) # 누적\n",
    "    \n",
    "    names = top_list[one].find('a',class_='tltle').text\n",
    "    top_stock_names.append(names) # 종목명\n",
    "    \n",
    "    price = top_list[one].find_all('td',class_='number')[2].text\n",
    "    top_stock_name_prices.append(price) # 현재가\n",
    "    \n",
    "    com = top_list[one].find_all('td',class_='number')[3].text.split()\n",
    "    com_with_yest.append(com) # 전일비\n",
    "    \n",
    "    flu = top_list[one].find_all('td',class_='number')[4].text.split()\n",
    "    fluc_rates.append(flu) # 등락률\n",
    "    \n",
    "    trad = top_list[one].find_all('td',class_='number')[5].text\n",
    "    trad_volumes.append(trad) # 거래량\n",
    "    \n",
    "    start = top_list[one].find_all('td',class_='number')[6].text\n",
    "    starts.append(start) # 시가\n",
    "    \n",
    "    high = top_list[one].find_all('td',class_='number')[7].text\n",
    "    highs.append(high) # 고가\n",
    "    \n",
    "    low = top_list[one].find_all('td', class_='number')[8].text\n",
    "    lows.append(low) #저가\n",
    "\n",
    "\n",
    "print(len(idxs))"
   ]
  },
  {
   "cell_type": "code",
   "execution_count": 162,
   "metadata": {},
   "outputs": [],
   "source": [
    "import pandas as pd"
   ]
  },
  {
   "cell_type": "code",
   "execution_count": 163,
   "metadata": {},
   "outputs": [
    {
     "data": {
      "text/html": [
       "<div>\n",
       "<style scoped>\n",
       "    .dataframe tbody tr th:only-of-type {\n",
       "        vertical-align: middle;\n",
       "    }\n",
       "\n",
       "    .dataframe tbody tr th {\n",
       "        vertical-align: top;\n",
       "    }\n",
       "\n",
       "    .dataframe thead th {\n",
       "        text-align: right;\n",
       "    }\n",
       "</style>\n",
       "<table border=\"1\" class=\"dataframe\">\n",
       "  <thead>\n",
       "    <tr style=\"text-align: right;\">\n",
       "      <th></th>\n",
       "      <th>순위</th>\n",
       "      <th>연속</th>\n",
       "      <th>누적</th>\n",
       "      <th>종목명</th>\n",
       "      <th>현재가</th>\n",
       "      <th>전일비</th>\n",
       "      <th>등락률</th>\n",
       "      <th>거래량</th>\n",
       "      <th>시가</th>\n",
       "      <th>고가</th>\n",
       "      <th>저가</th>\n",
       "    </tr>\n",
       "  </thead>\n",
       "  <tbody>\n",
       "    <tr>\n",
       "      <th>0</th>\n",
       "      <td>1</td>\n",
       "      <td>1</td>\n",
       "      <td>2</td>\n",
       "      <td>코리아에셋투자증권</td>\n",
       "      <td>16,350</td>\n",
       "      <td>[상한, 3,750]</td>\n",
       "      <td>[+29.76%]</td>\n",
       "      <td>2,831,589</td>\n",
       "      <td>12,550</td>\n",
       "      <td>16,350</td>\n",
       "      <td>12,350</td>\n",
       "    </tr>\n",
       "    <tr>\n",
       "      <th>1</th>\n",
       "      <td>2</td>\n",
       "      <td>1</td>\n",
       "      <td>4</td>\n",
       "      <td>한국비엔씨</td>\n",
       "      <td>11,150</td>\n",
       "      <td>[상한, 2,570]</td>\n",
       "      <td>[+29.95%]</td>\n",
       "      <td>26,790,046</td>\n",
       "      <td>8,610</td>\n",
       "      <td>11,150</td>\n",
       "      <td>8,510</td>\n",
       "    </tr>\n",
       "    <tr>\n",
       "      <th>2</th>\n",
       "      <td>3</td>\n",
       "      <td>2</td>\n",
       "      <td>2</td>\n",
       "      <td>유진스팩5호</td>\n",
       "      <td>6,370</td>\n",
       "      <td>[상한, 1,470]</td>\n",
       "      <td>[+30.00%]</td>\n",
       "      <td>2,191,485</td>\n",
       "      <td>5,890</td>\n",
       "      <td>6,370</td>\n",
       "      <td>5,650</td>\n",
       "    </tr>\n",
       "    <tr>\n",
       "      <th>3</th>\n",
       "      <td>4</td>\n",
       "      <td>1</td>\n",
       "      <td>4</td>\n",
       "      <td>하나머스트7호스팩</td>\n",
       "      <td>4,130</td>\n",
       "      <td>[상한, 950]</td>\n",
       "      <td>[+29.87%]</td>\n",
       "      <td>12,583,776</td>\n",
       "      <td>3,315</td>\n",
       "      <td>4,130</td>\n",
       "      <td>3,265</td>\n",
       "    </tr>\n",
       "    <tr>\n",
       "      <th>4</th>\n",
       "      <td>5</td>\n",
       "      <td>1</td>\n",
       "      <td>5</td>\n",
       "      <td>유진스팩6호</td>\n",
       "      <td>4,815</td>\n",
       "      <td>[상한, 1,110]</td>\n",
       "      <td>[+29.96%]</td>\n",
       "      <td>6,173,742</td>\n",
       "      <td>3,900</td>\n",
       "      <td>4,815</td>\n",
       "      <td>3,885</td>\n",
       "    </tr>\n",
       "  </tbody>\n",
       "</table>\n",
       "</div>"
      ],
      "text/plain": [
       "  순위 연속 누적        종목명     현재가          전일비        등락률         거래량      시가  \\\n",
       "0  1  1  2  코리아에셋투자증권  16,350  [상한, 3,750]  [+29.76%]   2,831,589  12,550   \n",
       "1  2  1  4      한국비엔씨  11,150  [상한, 2,570]  [+29.95%]  26,790,046   8,610   \n",
       "2  3  2  2     유진스팩5호   6,370  [상한, 1,470]  [+30.00%]   2,191,485   5,890   \n",
       "3  4  1  4  하나머스트7호스팩   4,130    [상한, 950]  [+29.87%]  12,583,776   3,315   \n",
       "4  5  1  5     유진스팩6호   4,815  [상한, 1,110]  [+29.96%]   6,173,742   3,900   \n",
       "\n",
       "       고가      저가  \n",
       "0  16,350  12,350  \n",
       "1  11,150   8,510  \n",
       "2   6,370   5,650  \n",
       "3   4,130   3,265  \n",
       "4   4,815   3,885  "
      ]
     },
     "execution_count": 163,
     "metadata": {},
     "output_type": "execute_result"
    }
   ],
   "source": [
    "dat = {'순위': idxs, '연속': continuities, '누적':accumulates, \n",
    "       '종목명':top_stock_names , '현재가':top_stock_name_prices , \n",
    "       '전일비':com_with_yest,'등락률' :fluc_rates , '거래량':trad_volumes, \n",
    "       '시가':starts ,'고가':highs, '저가':lows}\n",
    "dat = pd.DataFrame(dat)\n",
    "dat"
   ]
  },
  {
   "cell_type": "code",
   "execution_count": 164,
   "metadata": {},
   "outputs": [],
   "source": [
    "stock = dat.to_csv('0705_top_stock.csv',index=False)\n",
    "stock = dat.to_excel('0705_top_stock.xlsx',index=False)"
   ]
  },
  {
   "cell_type": "code",
   "execution_count": 165,
   "metadata": {},
   "outputs": [],
   "source": [
    "import os"
   ]
  },
  {
   "cell_type": "code",
   "execution_count": 166,
   "metadata": {},
   "outputs": [
    {
     "name": "stdout",
     "output_type": "stream",
     "text": [
      "None\n"
     ]
    }
   ],
   "source": [
    "path = os.getcwd()\n",
    "print(os.chdir(path))"
   ]
  },
  {
   "cell_type": "code",
   "execution_count": null,
   "metadata": {},
   "outputs": [],
   "source": []
  }
 ],
 "metadata": {
  "kernelspec": {
   "display_name": "Python 3",
   "language": "python",
   "name": "python3"
  },
  "language_info": {
   "codemirror_mode": {
    "name": "ipython",
    "version": 3
   },
   "file_extension": ".py",
   "mimetype": "text/x-python",
   "name": "python",
   "nbconvert_exporter": "python",
   "pygments_lexer": "ipython3",
   "version": "3.8.5"
  }
 },
 "nbformat": 4,
 "nbformat_minor": 4
}
